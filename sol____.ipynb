{
  "cells": [
    {
      "cell_type": "markdown",
      "metadata": {
        "id": "N6DJ-RYxpCUM"
      },
      "source": [
        "# Before your start:\n",
        "- Read the README.md file\n",
        "- Comment as much as you can and use the resources in the README.md file\n",
        "- Happy learning!"
      ]
    },
    {
      "cell_type": "code",
      "execution_count": 3,
      "metadata": {
        "id": "m2Q5v4eTpCUQ"
      },
      "outputs": [],
      "source": [
        "# Import reduce from functools, numpy and pandas\n",
        "from functools import reduce\n",
        "import numpy\n",
        "import pandas"
      ]
    },
    {
      "cell_type": "markdown",
      "metadata": {
        "id": "Qxw0yH8bpCUU"
      },
      "source": [
        "# Challenge 1 - Mapping\n",
        "\n",
        "#### We will use the map function to clean up words in a book.\n",
        "\n",
        "In the following cell, we will read a text file containing the book The Prophet by Khalil Gibran."
      ]
    },
    {
      "cell_type": "code",
      "execution_count": 6,
      "metadata": {
        "id": "OhM3_gMWpCUX"
      },
      "outputs": [],
      "source": [
        "# Run this code:\n",
        "\n",
        "location = '/content/58585-0.txt'\n",
        "with open(location, 'r', encoding=\"utf8\") as f:\n",
        "    prophet = f.read().split(' ')"
      ]
    },
    {
      "cell_type": "code",
      "execution_count": 7,
      "metadata": {
        "colab": {
          "base_uri": "https://localhost:8080/"
        },
        "id": "q1HH7qjapCUY",
        "outputId": "2740a2e1-1bbf-41dc-e48b-8f531455029a"
      },
      "outputs": [
        {
          "output_type": "execute_result",
          "data": {
            "text/plain": [
              "13637"
            ]
          },
          "metadata": {},
          "execution_count": 7
        }
      ],
      "source": [
        "len(prophet)"
      ]
    },
    {
      "cell_type": "markdown",
      "metadata": {
        "id": "5Rby5RmVpCUZ"
      },
      "source": [
        "#### Let's remove the first 568 words since they contain information about the book but are not part of the book itself.\n",
        "\n",
        "Do this by removing from `prophet` elements 0 through 567 of the list (you can also do this by keeping elements 568 through the last element)."
      ]
    },
    {
      "cell_type": "code",
      "execution_count": 9,
      "metadata": {
        "colab": {
          "base_uri": "https://localhost:8080/"
        },
        "id": "9bGJI8-spCUb",
        "outputId": "e91f378b-3940-4619-c149-84f6b78aa3fb"
      },
      "outputs": [
        {
          "output_type": "stream",
          "name": "stdout",
          "text": [
            "12501\n"
          ]
        }
      ],
      "source": [
        "# your code here\n",
        "prophet = prophet[568:]\n",
        "print(len(prophet))\n",
        "\n"
      ]
    },
    {
      "cell_type": "markdown",
      "metadata": {
        "id": "vJkDMg3-pCUe"
      },
      "source": [
        "If you look through the words, you will find that many words have a reference attached to them. For example, let's look at words 1 through 10."
      ]
    },
    {
      "cell_type": "code",
      "execution_count": 10,
      "metadata": {
        "colab": {
          "base_uri": "https://localhost:8080/"
        },
        "id": "Zbx-UdAspCUf",
        "outputId": "9c6e00f6-1eb3-4938-b34a-9dac7ea63a6b"
      },
      "outputs": [
        {
          "output_type": "stream",
          "name": "stdout",
          "text": [
            "['dispense', 'with', 'confidence?\\n\\nIf', 'this', 'is', 'my', 'day', 'of', 'harvest,', 'in']\n"
          ]
        }
      ],
      "source": [
        "# your code here\n",
        "print(prophet[:10])\n"
      ]
    },
    {
      "cell_type": "markdown",
      "metadata": {
        "id": "URFD6m6qpCUh"
      },
      "source": [
        "#### The next step is to create a function that will remove references.\n",
        "\n",
        "We will do this by splitting the string on the `{` character and keeping only the part before this character. Write your function below."
      ]
    },
    {
      "cell_type": "code",
      "execution_count": 18,
      "metadata": {
        "id": "2xWRCZTNpCUi"
      },
      "outputs": [],
      "source": [
        "def reference(x):\n",
        "    '''\n",
        "    Input: A string\n",
        "    Output: The string with references removed\n",
        "\n",
        "    Example:\n",
        "    Input: 'the{7}'\n",
        "    Output: 'the'\n",
        "    '''\n",
        "    return x.split('{')[0]\n",
        "\n",
        "    # your code here"
      ]
    },
    {
      "cell_type": "code",
      "execution_count": 20,
      "metadata": {
        "colab": {
          "base_uri": "https://localhost:8080/"
        },
        "id": "P1FdqSHrpCUj",
        "outputId": "cacc64ca-7f58-43ad-c0f5-9d4a54aea767"
      },
      "outputs": [
        {
          "output_type": "stream",
          "name": "stdout",
          "text": [
            "the\n",
            "word\n",
            "example\n"
          ]
        }
      ],
      "source": [
        "# your code here\n",
        "print(reference('the{7}'))\n",
        "print(reference('word{15}'))\n",
        "print(reference('example{12} text'))"
      ]
    },
    {
      "cell_type": "markdown",
      "metadata": {
        "id": "QLHyVgkBpCUk"
      },
      "source": [
        "Now that we have our function, use the `map()` function to apply this function to our book, The Prophet. Return the resulting list to a new list called `prophet_reference`."
      ]
    },
    {
      "cell_type": "code",
      "execution_count": 21,
      "metadata": {
        "id": "VHIDGI6ipCUk"
      },
      "outputs": [],
      "source": [
        "# your code here\n",
        "prophet_reference = list(map(reference, prophet))\n"
      ]
    },
    {
      "cell_type": "markdown",
      "metadata": {
        "id": "FkwU_LebpCUm"
      },
      "source": [
        "Another thing you may have noticed is that some words contain a line break. Let's write a function to split those words. Our function will return the string split on the character `\\n`. Write your function in the cell below."
      ]
    },
    {
      "cell_type": "code",
      "execution_count": 35,
      "metadata": {
        "id": "Ll2YfxaWpCUn"
      },
      "outputs": [],
      "source": [
        "def line_break(x):\n",
        "    '''\n",
        "    Input: A string\n",
        "    Output: A list of strings split on the line break (\\n) character\n",
        "\n",
        "    Example:\n",
        "    Input: 'the\\nbeloved'\n",
        "    Output: ['the', 'beloved']\n",
        "    '''\n",
        "    return x.split('\\n')\n",
        "    # your code here"
      ]
    },
    {
      "cell_type": "markdown",
      "metadata": {
        "id": "7gsNjWo5pCUo"
      },
      "source": [
        "Apply the `line_break` function to the `prophet_reference` list. Name the new list `prophet_line`."
      ]
    },
    {
      "cell_type": "code",
      "execution_count": 36,
      "metadata": {
        "scrolled": true,
        "id": "yYGY6WOmpCUo"
      },
      "outputs": [],
      "source": [
        "# your code here\n",
        "prophet_line = [word for text in prophet_reference for word in line_break(text)]\n"
      ]
    },
    {
      "cell_type": "markdown",
      "metadata": {
        "id": "gBcLVdXHpCUp"
      },
      "source": [
        "If you look at the elements of `prophet_line`, you will see that the function returned lists and not strings. Our list is now a list of lists. Flatten the list using list comprehension. Assign this new list to `prophet_flat`."
      ]
    },
    {
      "cell_type": "code",
      "execution_count": 50,
      "metadata": {
        "colab": {
          "base_uri": "https://localhost:8080/"
        },
        "id": "HadkwCtvpCUp",
        "outputId": "3bfc61fd-5791-4970-afd5-deec90759cb7"
      },
      "outputs": [
        {
          "output_type": "stream",
          "name": "stdout",
          "text": [
            "['d', 'i', 's', 'p', 'e', 'n', 's', 'e', 'w', 'i']\n"
          ]
        }
      ],
      "source": [
        "prophet_flat = [i for sub in prophet_line for i in sub]\n",
        "print(prophet_flat[:10])\n"
      ]
    },
    {
      "cell_type": "code",
      "execution_count": 38,
      "metadata": {
        "id": "gescbGWMpCUq"
      },
      "outputs": [],
      "source": [
        "# your code here\n",
        "prophet_flat = [i for sub in prophet_line for i in sub]\n"
      ]
    },
    {
      "cell_type": "markdown",
      "metadata": {
        "id": "R9cU-3T7pCUq"
      },
      "source": [
        "# Challenge 2 - Filtering\n",
        "\n",
        "When printing out a few words from the book, we see that there are words that we may not want to keep if we choose to analyze the corpus of text. Below is a list of words that we would like to get rid of. Create a function that will return false if it contains a word from the list of words specified and true otherwise."
      ]
    },
    {
      "cell_type": "code",
      "execution_count": 39,
      "metadata": {
        "id": "0tpHj-qMpCUr"
      },
      "outputs": [],
      "source": [
        "def word_filter(x):\n",
        "    '''\n",
        "    Input: A string\n",
        "    Output: True if the word is not in the specified list\n",
        "    and False if the word is in the list.\n",
        "\n",
        "    Example:\n",
        "    word list = ['and', 'the']\n",
        "    Input: 'and'\n",
        "    Output: False\n",
        "\n",
        "    Input: 'John'\n",
        "    Output: True\n",
        "    '''\n",
        "\n",
        "    word_list = ['and', 'the', 'a', 'an']\n",
        "\n",
        "    # your code here\n",
        "\n",
        "    if x.lower() in word_list:\n",
        "        return False\n",
        "    else:\n",
        "        return True"
      ]
    },
    {
      "cell_type": "markdown",
      "metadata": {
        "id": "Hyzw5U5ypCUr"
      },
      "source": [
        "Use the `filter()` function to filter out the words speficied in the `word_filter()` function. Store the filtered list in the variable `prophet_filter`."
      ]
    },
    {
      "cell_type": "code",
      "execution_count": 40,
      "metadata": {
        "scrolled": true,
        "id": "jzs-RLPCpCUs"
      },
      "outputs": [],
      "source": [
        "# your code here\n",
        "prophet_filter = list(filter(word_filter, prophet_flat))\n"
      ]
    },
    {
      "cell_type": "markdown",
      "metadata": {
        "id": "1vs3OkKApCUs"
      },
      "source": [
        "# Bonus Challenge\n",
        "\n",
        "Rewrite the `word_filter` function above to not be case sensitive."
      ]
    },
    {
      "cell_type": "code",
      "execution_count": 41,
      "metadata": {
        "id": "sy2OXa-bpCUs"
      },
      "outputs": [],
      "source": [
        "def word_filter_case(x):\n",
        "\n",
        "    word_list = ['and', 'the', 'a', 'an']\n",
        "\n",
        "    # your code here\n",
        "    if x.lower() in [word.lower() for word in word_list]:\n",
        "        return False\n",
        "    else:\n",
        "        return True"
      ]
    },
    {
      "cell_type": "markdown",
      "metadata": {
        "id": "-jFVE-E7pCUt"
      },
      "source": [
        "# Challenge 3 - Reducing\n",
        "\n",
        "#### Now that we have significantly cleaned up our text corpus, let's use the `reduce()` function to put the words back together into one long string separated by spaces.\n",
        "\n",
        "We will start by writing a function that takes two strings and concatenates them together with a space between the two strings."
      ]
    },
    {
      "cell_type": "code",
      "execution_count": 42,
      "metadata": {
        "id": "jut_2dMXpCUu"
      },
      "outputs": [],
      "source": [
        "def concat_space(a, b):\n",
        "    '''\n",
        "    Input:Two strings\n",
        "    Output: A single string separated by a space\n",
        "\n",
        "    Example:\n",
        "    Input: 'John', 'Smith'\n",
        "    Output: 'John Smith'\n",
        "    '''\n",
        "\n",
        "    # your code here\n",
        "    return a + ' ' + b"
      ]
    },
    {
      "cell_type": "code",
      "execution_count": 48,
      "metadata": {
        "scrolled": true,
        "colab": {
          "base_uri": "https://localhost:8080/"
        },
        "id": "FbSHQPeUpCUu",
        "outputId": "561d51a8-fc48-4c10-fffc-8f3b35d14248"
      },
      "outputs": [
        {
          "output_type": "stream",
          "name": "stdout",
          "text": [
            "d i s p e \n"
          ]
        }
      ],
      "source": [
        "# your code here\n",
        "prophet_text = reduce(concat_space, prophet_filter)\n",
        "print(prophet_text[:10])\n"
      ]
    },
    {
      "cell_type": "markdown",
      "metadata": {
        "id": "JFcigW82pCUv"
      },
      "source": [
        "Use the function above to reduce the text corpus in the list `prophet_filter` into a single string. Assign this new string to the variable `prophet_string`."
      ]
    },
    {
      "cell_type": "code",
      "execution_count": 49,
      "metadata": {
        "colab": {
          "base_uri": "https://localhost:8080/"
        },
        "id": "ZuZqp0qXpCUv",
        "outputId": "2b53382f-0c81-4712-f930-263308a22328"
      },
      "outputs": [
        {
          "output_type": "stream",
          "name": "stdout",
          "text": [
            "d i s p e n s e w i t \n"
          ]
        }
      ],
      "source": [
        "# your code here\n",
        "prophet_string = reduce(concat_space, prophet_filter)\n",
        "print(prophet_string[:22])"
      ]
    }
  ],
  "metadata": {
    "kernelspec": {
      "display_name": "Python 3 (ipykernel)",
      "language": "python",
      "name": "python3"
    },
    "language_info": {
      "codemirror_mode": {
        "name": "ipython",
        "version": 3
      },
      "file_extension": ".py",
      "mimetype": "text/x-python",
      "name": "python",
      "nbconvert_exporter": "python",
      "pygments_lexer": "ipython3",
      "version": "3.9.13"
    },
    "colab": {
      "provenance": []
    }
  },
  "nbformat": 4,
  "nbformat_minor": 0
}